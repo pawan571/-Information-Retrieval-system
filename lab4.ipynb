{
  "nbformat": 4,
  "nbformat_minor": 0,
  "metadata": {
    "colab": {
      "provenance": []
    },
    "kernelspec": {
      "name": "python3",
      "display_name": "Python 3"
    },
    "language_info": {
      "name": "python"
    }
  },
  "cells": [
    {
      "cell_type": "code",
      "source": [
        "from google.colab import drive\n",
        "drive.mount('/content/drive')"
      ],
      "metadata": {
        "colab": {
          "base_uri": "https://localhost:8080/"
        },
        "id": "N0dllrhIJJpD",
        "outputId": "b3de7c45-7349-4e8a-894c-6c0e94afe70b"
      },
      "execution_count": 10,
      "outputs": [
        {
          "output_type": "stream",
          "name": "stdout",
          "text": [
            "Mounted at /content/drive\n"
          ]
        }
      ]
    },
    {
      "cell_type": "code",
      "source": [
        "import os\n",
        "import re\n",
        "import numpy as np\n",
        "from collections import defaultdict\n",
        "from math import log"
      ],
      "metadata": {
        "id": "cxeKpZSOJQ6m"
      },
      "execution_count": 27,
      "outputs": []
    },
    {
      "cell_type": "code",
      "source": [
        "# Preprocessing function\n",
        "def preprocess(text):\n",
        "    return re.findall(r'\\b\\w+\\b', text.lower())"
      ],
      "metadata": {
        "id": "0gJmcSBXJQ9c"
      },
      "execution_count": 28,
      "outputs": []
    },
    {
      "cell_type": "code",
      "source": [
        "# Load documents\n",
        "def load_documents(folder_path):\n",
        "    docs = {}\n",
        "    for filename in os.listdir(folder_path):\n",
        "        if filename.endswith('.txt'):\n",
        "            with open(os.path.join(folder_path, filename), 'r') as file:\n",
        "                docs[filename] = preprocess(file.read())\n",
        "    return docs"
      ],
      "metadata": {
        "id": "1MLeYlBNJRAT"
      },
      "execution_count": 29,
      "outputs": []
    },
    {
      "cell_type": "code",
      "source": [
        "# Define the queries manually (for testing purpose)\n",
        "queries = [\n",
        "       \"battery life out\",\n",
        "       \"qualifying amount\",\n",
        "       \"international purchases\"\n",
        "    ]"
      ],
      "metadata": {
        "id": "Vl08ynieJRDL"
      },
      "execution_count": 30,
      "outputs": []
    },
    {
      "cell_type": "code",
      "source": [
        "# Compute term frequencies and document frequencies\n",
        "def compute_statistics(docs):\n",
        "    doc_count = len(docs)\n",
        "    term_doc_freq = defaultdict(int)\n",
        "    term_freq = defaultdict(lambda: defaultdict(int))\n",
        "\n",
        "    for doc_id, words in docs.items():\n",
        "        word_set = set(words)\n",
        "        for word in words:\n",
        "            term_freq[doc_id][word] += 1\n",
        "        for word in word_set:\n",
        "            term_doc_freq[word] += 1\n",
        "\n",
        "    return term_freq, term_doc_freq, doc_count"
      ],
      "metadata": {
        "id": "Q6PxfQMmJRFh"
      },
      "execution_count": 31,
      "outputs": []
    },
    {
      "cell_type": "code",
      "source": [
        "# Compute relevance probabilities using BIM\n",
        "def compute_relevance_prob(query, term_freq, term_doc_freq, doc_count):\n",
        "    scores = {}\n",
        "    for doc_id in term_freq:\n",
        "        score = 1.0\n",
        "        for term in query:\n",
        "            tf = term_freq[doc_id].get(term, 0)\n",
        "            df = term_doc_freq.get(term, 0)\n",
        "            p_term_given_relevant = (tf + 1) / (sum(term_freq[doc_id].values()) + len(term_doc_freq))\n",
        "            p_term_given_not_relevant = (df + 1) / (doc_count - df + len(term_doc_freq))\n",
        "            score *= (p_term_given_relevant / p_term_given_not_relevant)\n",
        "        scores[doc_id] = score\n",
        "    return scores"
      ],
      "metadata": {
        "id": "rm0yX7NYJRIY"
      },
      "execution_count": 32,
      "outputs": []
    },
    {
      "cell_type": "code",
      "source": [
        "# Main retrieval function\n",
        "def retrieve_documents(folder_path, queries):\n",
        "    docs = load_documents(folder_path)\n",
        "    queries = [\n",
        "       \"battery life out\",\n",
        "       \"qualifying amount\",\n",
        "       \"international purchases\"\n",
        "    ]\n",
        "\n",
        "    term_freq, term_doc_freq, doc_count = compute_statistics(docs)\n",
        "\n",
        "    # Open a file to write results\n",
        "    with open('Pawan_result.txt', 'w') as result_file:\n",
        "        for query in queries:\n",
        "            query_terms = preprocess(query)\n",
        "            scores = compute_relevance_prob(query_terms, term_freq, term_doc_freq, doc_count)\n",
        "            ranked_docs = sorted(scores.items(), key=lambda item: item[1], reverse=True)\n",
        "\n",
        "            # Print to console\n",
        "            print(f\"Query: {query}\")\n",
        "            result_file.write(f\"Query: {query}\\n\")\n",
        "\n",
        "            # Print and write only the top 3 results with ranks\n",
        "            for rank, (doc_id, score) in enumerate(ranked_docs[:3], start=1):\n",
        "                print(f\"Rank {rank}: Document:{doc_id}, Score: {score:.4f}\")\n",
        "                result_file.write(f\"Rank {rank}: Document {doc_id}, Score: {score:.4f}\\n\")\n",
        "\n",
        "            print()\n",
        "            result_file.write(\"\\n\")\n",
        "\n",
        "# Example usage\n",
        "folder_path = '/content/drive/MyDrive/Dataset: IR'\n",
        "retrieve_documents(folder_path, queries)"
      ],
      "metadata": {
        "colab": {
          "base_uri": "https://localhost:8080/"
        },
        "id": "M4PKVszzdDuc",
        "outputId": "1bd6354d-07b6-4947-8dcb-b3334499ea5d"
      },
      "execution_count": 34,
      "outputs": [
        {
          "output_type": "stream",
          "name": "stdout",
          "text": [
            "Query: battery life out\n",
            "Rank 1: Document:doc.1.txt, Score: 0.0697\n",
            "Rank 2: Document:doc.7.txt, Score: 0.0371\n",
            "Rank 3: Document:docs_11.txt, Score: 0.0299\n",
            "\n",
            "Query: qualifying amount\n",
            "Rank 1: Document:doc.7.txt, Score: 1.0663\n",
            "Rank 2: Document:doc.5.txt, Score: 0.2325\n",
            "Rank 3: Document:Doc.10.txt, Score: 0.1402\n",
            "\n",
            "Query: international purchases\n",
            "Rank 1: Document:Doc.9.txt, Score: 1.2607\n",
            "Rank 2: Document:Doc.10.txt, Score: 0.2106\n",
            "Rank 3: Document:docs_20.txt, Score: 0.1864\n",
            "\n"
          ]
        }
      ]
    },
    {
      "cell_type": "code",
      "source": [],
      "metadata": {
        "id": "TZxAWgSeRfBC"
      },
      "execution_count": 33,
      "outputs": []
    }
  ]
}