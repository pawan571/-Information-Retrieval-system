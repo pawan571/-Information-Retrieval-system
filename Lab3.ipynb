{
  "nbformat": 4,
  "nbformat_minor": 0,
  "metadata": {
    "colab": {
      "provenance": []
    },
    "kernelspec": {
      "name": "python3",
      "display_name": "Python 3"
    },
    "language_info": {
      "name": "python"
    }
  },
  "cells": [
    {
      "cell_type": "markdown",
      "source": [
        "# Import Important Library"
      ],
      "metadata": {
        "id": "BW1fmNMnXmCw"
      }
    },
    {
      "cell_type": "code",
      "execution_count": 23,
      "metadata": {
        "colab": {
          "base_uri": "https://localhost:8080/"
        },
        "id": "5nyRaszTNHVh",
        "outputId": "0bafd132-1a3b-4c91-d0ee-ece81e2648be"
      },
      "outputs": [
        {
          "output_type": "stream",
          "name": "stderr",
          "text": [
            "[nltk_data] Downloading package stopwords to /root/nltk_data...\n",
            "[nltk_data]   Package stopwords is already up-to-date!\n",
            "[nltk_data] Downloading package punkt to /root/nltk_data...\n",
            "[nltk_data]   Package punkt is already up-to-date!\n",
            "[nltk_data] Downloading package wordnet to /root/nltk_data...\n",
            "[nltk_data]   Package wordnet is already up-to-date!\n"
          ]
        }
      ],
      "source": [
        "import numpy as np\n",
        "import math\n",
        "import nltk\n",
        "nltk.download('stopwords')\n",
        "nltk.download('punkt')\n",
        "nltk.download('wordnet')\n",
        "import os\n",
        "import string\n",
        "import logging\n",
        "import re\n",
        "from collections import defaultdict, Counter\n",
        "from nltk.corpus import stopwords\n",
        "from nltk.tokenize import word_tokenize\n",
        "from nltk.stem import WordNetLemmatizer"
      ]
    },
    {
      "cell_type": "markdown",
      "source": [
        "# Upload File and Load into List"
      ],
      "metadata": {
        "id": "F7d6hFDDPn8u"
      }
    },
    {
      "source": [
        "# Read documents from uploaded files\n",
        "file_paths = [\"/content/drive/MyDrive/Assignment 2:IR\"]\n",
        "\n",
        "# Load documents into a list\n",
        "docs = []\n",
        "for file_path in file_paths:\n",
        "    # Check if the path is a directory\n",
        "    if os.path.isdir(file_path):\n",
        "        # If it's a directory, iterate through its files\n",
        "        for filename in os.listdir(file_path):\n",
        "            filepath = os.path.join(file_path, filename)\n",
        "            # Check if it's a file and then read\n",
        "            if os.path.isfile(filepath):\n",
        "                with open(filepath, 'r', encoding='utf-8') as file:\n",
        "                    docs.append(file.read())\n",
        "    # If it's not a directory, try reading it as a file\n",
        "    elif os.path.isfile(file_path):\n",
        "        with open(file_path, 'r', encoding='utf-8') as file:\n",
        "            docs.append(file.read())"
      ],
      "cell_type": "code",
      "metadata": {
        "id": "ZTKtKdyVOkpc"
      },
      "execution_count": 68,
      "outputs": []
    },
    {
      "cell_type": "markdown",
      "source": [
        "# Define Queries"
      ],
      "metadata": {
        "id": "HEmPdnLUP7KX"
      }
    },
    {
      "cell_type": "code",
      "source": [
        "# Define the queries manually (for testing purpose)\n",
        "queries = [\n",
        "    \"battery life out\",\n",
        "    \"qualifying amount\",\n",
        "    \"international purchases\"\n",
        "]"
      ],
      "metadata": {
        "id": "vFUx0TmvO33Y"
      },
      "execution_count": 69,
      "outputs": []
    },
    {
      "cell_type": "markdown",
      "source": [
        "# Text Preprocessing"
      ],
      "metadata": {
        "id": "mzYxf-HSP_3p"
      }
    },
    {
      "cell_type": "code",
      "source": [
        "# Function to lowercase and tokenize text\n",
        "def tokenize(text):\n",
        "    return text.lower().split()\n",
        "\n",
        " # Convert to lowercase\n",
        "    text = text.lower()\n",
        "    # Remove special characters and punctuation\n",
        "    text = re.sub(r\"[^a-zA-Z0-9\\s]\", \"\", text)\n",
        "    # Remove digit\n",
        "    text = re.sub(r\"\\d+\", \"\", text)"
      ],
      "metadata": {
        "id": "nTbT-awuO37P"
      },
      "execution_count": 70,
      "outputs": []
    },
    {
      "cell_type": "code",
      "source": [
        "# Tokenize documents and queries\n",
        "tokenized_docs = [tokenize(doc) for doc in docs]\n",
        "tokenized_queries = [tokenize(query) for query in queries]\n",
        "\n",
        "# Create a vocabulary from the tokenized documents\n",
        "vocab = list(set(term for doc in tokenized_docs for term in doc))\n",
        "\n",
        "\n",
        "print(tokenized_docs)\n",
        "print(tokenized_queries)\n",
        "print(vocab)"
      ],
      "metadata": {
        "colab": {
          "base_uri": "https://localhost:8080/"
        },
        "id": "ZZbE-LhSSAdO",
        "outputId": "ab18fb2f-331a-4d22-d32c-712d21487036"
      },
      "execution_count": 71,
      "outputs": [
        {
          "output_type": "stream",
          "name": "stdout",
          "text": [
            "[['\"@76099', 'plz', 'i', 'beg', 'you,', 'sort', 'your', 'battery', 'life', 'out', '😩\"', 'user', 'is', 'frustrated', 'with', 'battery', 'life', 'issues', 'after', 'an', 'update,', 'addressing', '@76099', 'and', 'pleading', 'for', 'a', 'fix.', '\"@105850', 'once', 'the', 'points', 'load', 'and', 'you', 'hit', 'the', 'number,', 'you', 'get', 'it', 'immediately!', \"you'll\", 'even', 'receive', 'a', 'congrats', 'email.', 'are', 'you', 'almost', 'there?', '^ac\"', 'a', 'response', 'from', 'customer', 'support', 'confirming', 'that', 'points', 'load', 'instantly', 'and', 'congratulatory', 'emails', 'are', 'sent', 'when', 'the', 'target', 'is', 'reached!.', '\"@southwestair', 'i', 'am!', 'thank', 'you', 'for', 'the', 'answer!!\"', 'the', 'user', 'responds', 'positively,', 'thanking', '@southwestair', 'for', 'providing', 'helpful', 'information', 'regarding', 'a', 'query', 'about', 'points.', '\"@southwestair', 'just', 'curious....will', 'i', 'get', 'the', 'companion', 'pass', 'the', 'exact', 'moment', 'i', 'get', 'enough', 'points?', 'or', 'will', 'i', 'have', 'to', 'wait?', 'thanks!\"', 'a', 'user', 'asks', 'southwest', 'air', 'about', 'the', 'timing', 'of', 'when', 'a', 'companion', '%', 'pass', 'will', 'be', 'issued', 'after', 'reaching', 'the', 'required', 'points!.', '\"@105851', \"we'd\", 'like', 'to', 'provide', 'some', 'assistance', 'with', 'this.', 'tell', 'us', 'more', 'about', '$', 'the', 'issue', \"you're\", 'experiencing', 'in', 'dm.', \"we'll\", 'go', 'from', 'there.', 'https://t.co/gdrqu22ypt\"', 'a', 'company', 'representative', 'invites', 'the', 'user', 'to', 'send', 'a', 'direct', 'message', '(dm)', 'to', 'resolve', 'the', 'issue', 'privately,', 'offering', 'further', 'assistance.#'], ['\"@34921', 'ugh,', 'this', 'update', 'is', 'killing', 'my', \"phone's\", 'performance!', 'please', 'fix', 'it!', '😡\"', 'user', 'expresses', 'frustration', 'with', 'the', 'phone’s', 'performance', 'after', 'an', 'update,', 'addressing', '@34921', 'and', 'urgently', 'requesting', 'a', 'fix.', '\"@78100', 'once', 'the', 'reward', 'points', 'appear', 'in', 'your', 'account,', 'they’re', 'yours', 'to', 'use', 'immediately!', 'we’ll', 'even', 'send', 'a', 'confirmation', 'email.', 'are', 'you', 'close?', '^jk\"', 'customer', 'support', 'confirms', 'that', 'reward', 'points', 'are', 'available', 'for', 'use', 'right', 'away,', 'with', 'a', 'congratulatory', 'email', 'sent', 'when', 'the', 'milestone', 'is', 'reached.', '\"@shopsmart', 'thanks', 'for', 'clarifying!', 'i', 'really', 'appreciate', 'the', 'quick', 'response!\"', 'user', 'thanks', '@shopsmart', 'for', 'providing', 'prompt', 'and', 'helpful', 'information', 'in', 'response', 'to', 'a', 'previous', 'query.', '\"@shopsmart', 'quick', 'question…', 'do', 'the', 'rewards', 'activate', 'instantly', 'once', 'i', 'hit', 'the', 'points', 'goal,', 'or', 'is', 'there', 'a', 'waiting', 'period?', 'thanks!\"', 'user', 'inquires', 'about', 'whether', 'the', 'rewards', 'are', 'immediately', 'available', 'after', 'reaching', 'a', 'points', 'threshold.', '\"@78101', 'we’d', 'love', 'to', 'assist', 'further!', 'please', 'share', 'more', 'details', 'about', 'the', 'issue', 'in', 'a', 'direct', 'message', '(dm)', 'so', 'we', 'can', 'help', 'you', 'resolve', 'it.', 'https://t.co/help12345\"', 'a', 'customer', 'service', 'representative', 'asks', 'the', 'user', 'to', 'dm', 'for', 'more', 'personalized', 'assistance,', 'providing', 'a', 'link', 'for', 'contact.'], ['\"@85472', 'this', 'update', 'completely', 'messed', 'up', 'my', 'wi-fi', 'connection!', 'fix', 'it', 'asap,', 'please!', '😤\"', 'user', 'complains', 'about', 'wi-fi', 'issues', 'after', 'a', 'recent', 'update,', 'addressing', '@85472', 'with', 'urgency,', 'requesting', 'a', 'quick', 'resolution.', '\"@59234', 'as', 'soon', 'as', 'your', 'membership', 'points', 'hit', 'the', 'required', 'number,', 'you’ll', 'be', 'notified', 'right', 'away.', \"you'll\", 'also', 'get', 'a', 'confirmation', 'email.', 'almost', 'there?', '^lm\"', 'customer', 'support', 'explains', 'that', 'membership', 'points', 'are', 'processed', 'immediately,', 'and', 'an', 'email', 'is', 'sent', 'to', 'confirm.', '\"@techstore', 'awesome,', 'thanks', 'for', 'getting', 'back', 'to', 'me', 'so', 'quickly!\"', 'user', 'expresses', 'gratitude', 'to', '@techstore', 'for', 'providing', 'a', 'swift', 'and', 'helpful', 'response', 'to', 'their', 'query.', '\"@techstore', 'will', 'i', 'be', 'able', 'to', 'claim', 'my', 'discount', 'right', 'when', 'i', 'reach', 'enough', 'points,', 'or', 'do', 'i', 'need', 'to', 'wait', 'a', 'bit?', 'thanks', 'in', 'advance!\"', 'a', 'user', 'asks', 'if', 'they', 'can', 'redeem', 'their', 'discount', 'immediately', 'after', 'accumulating', 'enough', 'points', 'or', 'if', 'there’s', 'a', 'delay.', '\"@59235', 'we’re', 'sorry', 'to', 'hear', 'you’re', 'having', 'trouble!', 'can', 'you', 'send', 'us', 'a', 'direct', 'message', '(dm)', 'with', 'more', 'details', 'so', 'we', 'can', 'assist', 'you', 'further?', 'https://t.co/supportlink\"', 'a', 'company', 'rep', 'invites', 'the', 'user', 'to', 'share', 'more', 'details', 'via', 'dm', 'to', 'offer', 'further', 'support', 'in', 'resolving', 'the', 'issue.'], ['\"@56312', 'this', 'new', 'version', 'just', 'keeps', 'crashing', 'my', 'apps!', 'can', 'you', 'fix', 'this', 'soon?', 'it’s', 'super', 'frustrating!\"', 'user', 'expresses', 'frustration', 'over', 'frequent', 'app', 'crashes', 'caused', 'by', 'a', 'recent', 'update,', 'requesting', 'a', 'fix', 'from', '@56312.', '\"@41289', 'once', 'the', 'balance', 'hits', 'the', 'target,', 'your', 'gift', 'card', 'is', 'sent', 'immediately,', 'and', \"you'll\", 'receive', 'an', 'email', 'notification!', 'so', 'close', 'now!', '^jl\"', 'support', 'confirms', 'that', 'the', 'user', 'will', 'receive', 'their', 'gift', 'card', 'instantly', 'and', 'an', 'email', 'upon', 'reaching', 'the', 'required', 'balance.', '\"@onlinestore', 'thanks', 'so', 'much', 'for', 'answering', 'so', 'quickly!\"', 'user', 'thanks', '@onlinestore', 'for', 'their', 'quick', 'response', 'to', 'a', 'previous', 'question.', '\"@onlinestore', 'quick', 'question—will', 'i', 'be', 'able', 'to', 'use', 'my', 'reward', 'points', 'as', 'soon', 'as', 'i', 'hit', 'the', 'threshold,', 'or', 'is', 'there', 'a', 'delay?\"', 'a', 'user', 'asks', 'whether', 'their', 'reward', 'points', 'will', 'be', 'available', 'immediately', 'after', 'hitting', 'the', 'required', 'amount.', '\"@41290', 'we’d', 'love', 'to', 'help', 'further!', 'could', 'you', 'send', 'us', 'more', 'details', 'in', 'a', 'direct', 'message', '(dm)', 'so', 'we', 'can', 'assist', 'you?', 'https://t.co/supportchat\"', 'customer', 'support', 'offers', 'to', 'help', 'the', 'user', 'privately', 'via', 'dm,', 'providing', 'a', 'link', 'for', 'contact.'], ['\"@78390', 'seriously,', 'i', \"can't\", 'believe', 'how', 'bad', 'my', 'battery', 'life', 'has', 'gotten', 'since', 'the', 'last', 'update!', 'can', 'you', 'guys', 'do', 'something', 'about', 'it?\"', 'user', 'expresses', 'dissatisfaction', 'with', 'battery', 'life', 'after', 'an', 'update', 'and', 'requests', '@78390', 'to', 'address', 'the', 'issue.', '\"@59021', 'once', 'your', 'cashback', 'is', 'processed,', 'it’ll', 'be', 'available', 'immediately,', 'and', 'you’ll', 'get', 'a', 'confirmation', 'email.', 'just', 'a', 'bit', 'more', 'to', 'go!', '^mh\"', 'customer', 'service', 'confirms', 'cashback', 'is', 'processed', 'instantly', 'and', 'an', 'email', 'is', 'sent', 'when', 'completed.', '\"@megastore', 'thanks', 'for', 'clarifying!', 'i', 'really', 'appreciate', 'the', 'help!\"', 'user', 'thanks', '@megastore', 'for', 'providing', 'a', 'helpful', 'clarification.', '\"@megastore', 'question…will', 'the', 'promo', 'code', 'be', 'activated', 'right', 'after', 'i', 'hit', 'the', 'qualifying', 'amount,', 'or', 'does', 'it', 'take', 'time', 'to', 'process?\"', 'user', 'asks', '@megastore', 'if', 'a', 'promo', 'code', 'activates', 'immediately', 'after', 'reaching', 'the', 'qualifying', 'amount.', '\"@59022', 'we’d', 'like', 'to', 'help', 'further!', 'please', 'dm', 'us', 'with', 'the', 'details', 'so', 'we', 'can', 'assist', 'you.', 'https://t.co/customerhelp\"', 'customer', 'support', 'invites', 'the', 'user', 'to', 'dm', 'them', 'to', 'resolve', 'the', 'issue', 'with', 'more', 'personalized', 'help.'], ['\"@24167', 'my', 'screen', 'has', 'been', 'freezing', 'nonstop', 'since', 'i', 'updated', 'the', 'software!', 'please', 'release', 'a', 'fix', 'soon!\"', 'user', 'complains', 'about', 'freezing', 'issues', 'after', 'a', 'software', 'update,', 'requesting', '@24167', 'to', 'fix', 'the', 'problem.', '\"@67843', 'as', 'soon', 'as', 'you', 'earn', 'the', 'bonus,', 'it’s', 'available', 'to', 'you', 'right', 'away!', 'a', 'confirmation', 'email', 'will', 'be', 'sent', 'too.', 'you’re', 'almost', 'there!', '^bw\"', 'customer', 'service', 'confirms', 'that', 'bonus', 'points', 'are', 'discount', 'instantly', 'available', 'upon', 'earning', 'them,', 'with', 'an', 'email', 'to', 'follow.', '\"@homeelectronics', 'appreciate', 'the', 'quick', 'response,', 'that', 'helped', 'a', 'lot!\"', 'user', 'thanks', '@homeelectronics', 'for', 'a', 'fast', 'and', 'helpful', 'answer.', '\"@homeelectronics', 'just', 'curious…', 'will', 'my', 'warranty', 'get', 'activated', 'immediately', 'after', 'i', 'register,', 'or', 'do', 'i', 'have', 'to', 'wait?\"', 'user', 'asks', '@homeelectronics', 'whether', 'their', 'warranty', 'will', 'activate', 'immediately', 'after', 'registration', 'or', 'if', 'there’s', 'a', 'delay.', '\"@67844', 'we’d', 'be', 'happy', 'to', 'assist!', 'could', 'you', 'share', 'more', 'company', 'and', 'discount', 'details', 'about', 'the', 'issue', 'via', 'dm?', 'we’ll', 'take', 'it', 'from', 'there.', 'https://t.co/helpcenter\"', 'support', 'invites', 'the', 'user', 'to', 'send', 'a', 'direct', 'message', 'for', 'further', 'assistance,', 'offering', 'a', 'link', 'for', 'private', 'communication.'], ['\"@92761', 'ever', 'since', 'i', 'installed', 'the', 'latest', 'patch,', 'my', 'phone', 'is', 'overheating', 'like', 'crazy!', 'can', 'you', 'look', 'into', 'this?\"', 'user', 'reports', 'overheating', 'issues', 'after', 'installing', 'a', 'patch,', 'requesting', 'assistance', 'from', '@92761.', '\"@34567', 'your', 'loyalty', 'points', 'are', 'credited', 'instantly', 'once', 'the', 'goal', 'is', 'met!', 'keep', 'an', 'eye', 'out', 'for', 'a', 'confirmation', 'email.', 'almost', 'there?', '^rt\"', 'support', 'confirms', 'that', 'loyalty', 'points', 'are', 'available', 'immediately,', 'with', 'an', 'email', 'sent', 'upon', 'reaching', 'the', 'goal.', '\"@flyhighairlines', 'thanks', 'for', 'the', 'info,', 'super', 'helpful!\"', 'user', 'thanks', '@flyhighairlines', 'for', 'the', 'provided', 'assistance,', 'indicating', 'that', 'the', 'response', 'helped', 'with', 'their', 'query.', '\"@flyhighairlines', 'just', 'wondering…', 'will', 'i', 'be', 'able', 'to', 'upgrade', 'my', 'seat', 'the', 'moment', 'i', 'earn', 'enough', 'points,', 'or', 'is', 'there', 'a', 'waiting', 'period?\"', 'user', 'seeks', 'clarification', 'from', '@flyhighairlines', 'regarding', 'when', 'they', 'can', 'upgrade', 'their', 'seat', 'after', 'reaching', 'the', 'required', 'points.', '\"@34568', 'we’re', 'here', 'to', 'help!', 'please', 'dm', 'us', 'with', 'more', 'information', 'so', 'we', 'can', 'resolve', 'this', 'issue', 'for', 'you.', 'https://t.co/helpdesk\"', 'customer', 'support', 'offers', 'help', 'via', 'dm,', 'asking', 'company', 'and', 'discount', 'for', 'more', 'information', 'to', 'better', 'assist', 'the', 'user.'], ['\\ufeff\"@12345', 'the', 'app', 'crashes', 'every', 'time', 'i', 'try', 'to', 'open', 'it!', 'can', 'you', 'fix', 'this?\"', 'user', 'reports', 'a', 'recurring', 'issue', 'with', 'the', 'app', 'crashing', 'and', 'requests', '@12345', 'to', 'resolve', 'the', 'problem.', '\"@serviceteam', 'your', 'team', 'has', 'been', 'super', 'helpful', 'in', 'resolving', 'my', 'issues', 'quickly.', 'thanks', 'a', 'lot!\"', 'user', 'expresses', 'gratitude', 'to', '@serviceteam', 'for', 'efficiently', 'addressing', 'their', 'issues.', '\"@retailstore', 'will', 'my', 'order', 'be', 'shipped', 'today,', 'or', 'is', 'there', 'a', 'delay?', \"i'm\", 'hoping', 'to', 'receive', 'it', 'soon.\"', 'user', 'inquires', 'with', '@retailstore', 'about', 'the', 'shipping', 'status', 'of', 'their', 'order', 'and', 'expresses', 'urgency.', '\"@productsupport', 'what', 'is', 'the', 'warranty', 'period', 'for', 'the', 'product?', 'i', 'couldn’t', 'find', 'it', 'on', 'your', 'website.\"', 'user', 'asks', '@productsupport', 'for', 'clarification', 'regarding', 'the', 'warranty', 'period', 'of', 'a', 'product.', '\"@67890', 'we’d', 'be', 'happy', 'to', 'assist', 'you', 'further.', 'please', 'send', 'us', 'a', 'direct', 'message', 'with', 'your', 'order', 'details.\"', 'customer', 'support', 'invites', 'the', 'user', 'to', 'dm', 'them', 'for', 'personalized', 'assistance', 'regarding', 'their', 'order.'], ['\\ufeff\"@techsupport', 'my', 'internet', 'connection', 'keeps', 'dropping', 'randomly', 'throughout', 'the', 'day.', 'can', 'you', 'help', 'me', 'fix', 'this?\"', 'user', 'reports', 'an', 'issue', 'with', 'their', 'internet', 'connection', 'being', 'unstable', 'and', 'requests', 'assistance', 'from', '@techsupport.', '\"@banksupport', 'can', 'you', 'confirm', 'when', 'my', 'pending', 'transaction', 'will', 'be', 'completed?', 'it’s', 'been', 'a', 'few', 'days', 'now.\"', 'user', 'asks', '@banksupport', 'for', 'clarification', 'on', 'the', 'status', 'of', 'a', 'pending', 'transaction', 'that', \"hasn't\", 'been', 'processed', 'yet.', '\"@onlinestore', 'do', 'you', 'offer', 'express', 'shipping', 'on', 'international', 'orders,', 'or', 'only', 'standard', 'shipping?\"', 'user', 'inquires', 'with', '@onlinestore', 'about', 'the', 'availability', 'of', 'express', 'shipping', 'options', 'for', 'international', 'purchases.'], ['\\ufeff\"@energyco', 'the', 'latest', 'bill', 'seems', 'way', 'higher', 'than', 'usual!', 'can', 'you', 'explain', 'why', 'the', 'charges', 'have', 'increased?\"', 'user', 'expresses', 'concern', 'about', 'a', 'higher-than-expected', 'bill', 'and', 'asks', '@energyco', 'for', 'an', 'explanation.', '\"@gymsupport', 'how', 'do', 'i', 'cancel', 'my', 'membership', 'online?', 'i', 'couldn’t', 'find', 'the', 'option', 'in', 'my', 'account', 'settings.\"', 'user', 'requests', 'guidance', 'from', '@gymsupport', 'on', 'how', 'to', 'cancel', 'their', 'membership', 'via', 'the', 'website.', '\"@45678', 'i', 'appreciate', 'the', 'prompt', 'response', 'to', 'my', 'inquiry!', 'your', 'customer', 'service', 'is', 'always', 'top-notch.\"', 'user', 'thanks', '@45678', 'for', 'providing', 'a', 'quick', 'response', 'and', 'compliments', 'their', 'customer', 'service.']]\n",
            "[['battery', 'life', 'out'], ['qualifying', 'amount'], ['international', 'purchases']]\n",
            "['bit?', 'hoping', 'ever', 'dropping', 'reach', 'purchases.', 'and', 'will', 'product.', 'user', 'here', 'there', '\"@59022', 'activated', 'frustrated', 'process?\"', 'keep', 'congrats', 'appreciate', 'recurring', 'there’s', 'help!\"', 'thanks!\"', '\"@78100', 'notification!', 'exact', 'status', 'via', 'i', 'am!', 'on', 'sorry', 'efficiently', 'this?\"', 'website.\"', 'we’re', 'performance!', 'higher-than-expected', 'query.', 'enough', 'indicating', 'so', 'better', 'charges', 'swift', 'they', 'product?', '@productsupport', 'met!', 'resolving', 'problem.', 'trouble!', 'question…will', 'crazy!', 'unstable', 'frequent', 'https://t.co/supportchat\"', 'connection', 'last', 'wondering…', \"can't\", 'few', 'have', 'representative', 'app', 'previous', 'close', 'up', 'wi-fi', 'software', 'when', 'happy', '^rt\"', 'pending', 'issue', '\"@megastore', 'hit', 'processed,', 'something', 'amount.', 'about', 'they’re', 'balance.', 'curious…', '\"@techstore', 'out', 'contact.', '@92761.', '\"@24167', 'helped', 'message', '\\ufeff\"@12345', 'days', 'addressing', 'code', 'question—will', '\"@85472', 'there?', '$', 'urgency,', 'provided', 'lot!\"', 'increased?\"', 'do', 'rep', 'https://t.co/help12345\"', 'transaction', 'experiencing', 'internet', '@78390', \"you'll\", 'there!', 'confirm', 'processed', 'bad', 'urgency.', 'today,', 'sort', '@56312.', '\"@gymsupport', 'wait', 'instantly', 'team', 'answering', 'thanks', '\"@92761', 'milestone', '\"@34921', 'you’ll', 'top-notch.\"', 'reached.', 'user.', 'number,', 'card', 'quick', 'southwest', 'go', 'need', 'for', 'assistance', 'dm?', 'support', 'release', 'helpful!\"', 'waiting', 'https://t.co/supportlink\"', 'more', 'dm,', 'regarding', 'we’ll', 'balance', 'couldn’t', 'than', 'follow.', 'load', 'completed?', 'https://t.co/helpcenter\"', \"i'm\", 'to', 'please', 'service', 'question.', 'seeks', \"we'd\", 'by', 'assistance.#', 'tell', 'bonus,', 'please!', 'details.\"', 'into', 'options', 'it’ll', 'update', '\"@flyhighairlines', 'thank', 'appear', 'over', 'express', 'moment', '@24167', '\"@34568', 'yet.', 'also', 'too.', 'address', 'only', 'membership', 'seriously,', 'email', 'response', 'way', 'gift', 'account', 'battery', 'we’d', 'promo', '@76099', 'earning', 'details', 'since', 'dm.', 'patch,', 'redeem', 'points?', 'orders,', 'reward', \"we'll\", 'caused', 'messed', 'once', 'activate', 'crashes', 'a', \"hasn't\", 'crashing', 'private', 'eye', '😩\"', '@banksupport', 'points.', 'seat', 'answer.', 'complains', 'standard', 'awesome,', 'companion', \"you're\", 'compliments', 'requesting', 'goal.', 'responds', 'open', 'can', '\"@59234', 'screen', '\"@45678', 'providing', 'discount', '\"@southwestair', 'freezing', 'it’s', 'higher', \"phone's\", 'plz', 'latest', 'seems', 'timing', 'explanation.', '\"@34567', 'you’re', '@onlinestore', 'congratulatory', 'it', 'option', 'soon', 'software!', '\\ufeff\"@techsupport', 'quickly.', 'points,', 'update!', '@12345', 'find', '\"@78390', 'having', 'just', 'guidance', 'query', 'you?', 'keeps', 'available', 'an', 'information', 'earn', 'as', 'question…', 'installed', 'shipping?\"', 'receive', 'their', 'https://t.co/helpdesk\"', 'away,', 'sent', 'is', 'able', 'soon!\"', 'frustrating!\"', 'quickly!\"', 'service.', 'why', '@45678', 'expresses', 'completed.', 'getting', 'positively,', 'with', 'recent', 'advance!\"', 'threshold.', 'time', '\"@59021', 'you.', 'requests', 'asking', 'like', 'issues', 'period?', 'curious....will', 'points', 'yours', 'throughout', '@homeelectronics', '\"@76099', 'fast', '@retailstore', 'wait?\"', 'claim', 'personalized', 'phone', 'immediately', 'dm', 'soon.\"', 'reached!.', 'ugh,', 'https://t.co/customerhelp\"', 'whether', 'cashback', 'apps!', 'love', 'credited', 'offer', '\"@56312', 'communication.', '😡\"', 'it?\"', 'issued', 'explains', 'reports', 'further?', 'upgrade', 'helpful', 'use', 'does', 'assistance,', 'away.', 'version', 'invites', 'back', 'close?', '\"@retailstore', 'killing', 'you', 'emails', 'gotten', 'them', '@flyhighairlines', 'concern', 'frustration', 'bit', 'further!', 'look', 'international', '@34921', 'hitting', 'order', 'get', 'has', 'soon?', 'connection!', 'availability', 'help.', 'performance', 'resolution.', 'this', 'period?\"', 'bill', 'goal', 'resolve', '\"@67843', 'bonus', 'now.\"', 'clarification.', 'randomly', 'response!\"', '\"@78101', 'warranty', 'upon', '@southwestair', 'confirmation', 'online?', '^jl\"', 'go!', '@gymsupport', '\"@105851', 'pleading', 'https://t.co/gdrqu22ypt\"', 'loyalty', 'could', 'it!', 'asap,', '\"@serviceteam', 'period', 'answer!!\"', 'wait?', 'urgently', 'immediately,', 'response,', 'email.', 'right', 'updated', 'registration', 'confirms', '@energyco', 'assist', 'required', 'send', 'it.', 'be', '^lm\"', 'of', '@megastore', 'inquiry!', '😤\"', 'overheating', 'the', 'order.', 'life', 'delay.', 'some', 'there.', 'company', 'direct', 'if', '\"@67890', 'after', 'target', 'points!.', 'link', '\"@shopsmart', 'help', 'almost', '\"@banksupport', '^mh\"', 'reaching', 'amount,', 'provide', '\"@onlinestore', 'immediately!', 'shipping', 'being', 'shipped', 'thanking', 'now!', 'accumulating', 'fix', 'from', 'asks', 'this.', 'clarifying!', 'clarification', 'usual!', 'gratitude', 'target,', '\"@41290', 'believe', 'nonstop', 'assist!', '@serviceteam', 'issue.', 'we', '@techstore', 'us', '@85472', 'explain', 'air', 'try', '(dm)', 'even', 'prompt', 'issues.', 'privately,', 'really', 'help!', 'been', 'me', 'settings.\"', 'your', 'what', 'register,', 'day.', 'new', 'completely', 'further', 'fix.', 'beg', '\"@homeelectronics', 'confirm.', 'much', 'threshold,', 'them,', 'website.', 'account,', 'hits', 'hear', 'guys', 'or', 'goal,', 'super', '%', '^bw\"', 'my', 'dissatisfaction', 'cancel', 'info,', 'customer', 'rewards', 'delay?', 'notified', 'inquires', 'confirming', '@shopsmart', 'further.', 'update,', 'every', 'qualifying', 'activates', 'installing', 'that', 'pass', 'delay?\"', 'phone’s', '\"@41289', '^jk\"', '\"@67844', 'always', 'privately', 'share', 'how', 'offering', 'away!', '^ac\"', 'in', '\"@59235', '\\ufeff\"@energyco', 'you,', 'offers', 'take', '@techsupport.', 'are', '\"@productsupport', '\"@105850']\n"
          ]
        }
      ]
    },
    {
      "cell_type": "markdown",
      "source": [
        "# Term Frequency (TF)"
      ],
      "metadata": {
        "id": "QFdQHliSTgZU"
      }
    },
    {
      "cell_type": "code",
      "source": [
        "# Function to calculate term frequency (TF)\n",
        "def term_frequency(term, document):\n",
        "    return document.count(term) / len(document)"
      ],
      "metadata": {
        "id": "WRob8EROSsr5"
      },
      "execution_count": 85,
      "outputs": []
    },
    {
      "cell_type": "markdown",
      "source": [
        "# Inverse Document Frequency (IDF)"
      ],
      "metadata": {
        "id": "33O3JcW2TlM1"
      }
    },
    {
      "cell_type": "code",
      "source": [
        "# Function to calculate inverse document frequency (IDF)\n",
        "def inverse_document_frequency(term, all_documents):\n",
        "    num_docs_containing_term = sum(1 for doc in all_documents if term in doc)\n",
        "    return math.log(len(all_documents) / (1 + num_docs_containing_term))"
      ],
      "metadata": {
        "id": "UKvuulcEPUSG"
      },
      "execution_count": 86,
      "outputs": []
    },
    {
      "cell_type": "markdown",
      "source": [
        "# Compute TF-IDF"
      ],
      "metadata": {
        "id": "loUgX1FyTvbs"
      }
    },
    {
      "cell_type": "code",
      "source": [
        "# Compute TF-IDF for a document\n",
        "def compute_tfidf(document, all_documents, vocab):\n",
        "    tfidf_vector = []\n",
        "    for term in vocab:\n",
        "        tf = term_frequency(term, document)\n",
        "        idf = inverse_document_frequency(term, all_documents)\n",
        "        tfidf_vector.append(tf * idf)\n",
        "    return np.array(tfidf_vector)"
      ],
      "metadata": {
        "id": "pTAbg1KFPaes"
      },
      "execution_count": 87,
      "outputs": []
    },
    {
      "cell_type": "markdown",
      "source": [
        "# Cosine similarity between two vectors"
      ],
      "metadata": {
        "id": "P19a63tvbz1b"
      }
    },
    {
      "cell_type": "code",
      "source": [
        "# Compute cosine similarity between two vectors\n",
        "def cosine_similarity(vec1, vec2):\n",
        "    dot_product = np.dot(vec1, vec2)\n",
        "    norm_vec1 = np.linalg.norm(vec1)\n",
        "    norm_vec2 = np.linalg.norm(vec2)\n",
        "    return dot_product / (norm_vec1 * norm_vec2)"
      ],
      "metadata": {
        "id": "XnDIF9n4bwOr"
      },
      "execution_count": 88,
      "outputs": []
    },
    {
      "cell_type": "markdown",
      "source": [
        "# Calculate TF-IDF vectors"
      ],
      "metadata": {
        "id": "8vM4P8kpb_zm"
      }
    },
    {
      "cell_type": "code",
      "source": [
        "# Calculate TF-IDF vectors for documents and queries\n",
        "doc_tfidf_vectors = [compute_tfidf(doc, tokenized_docs, vocab) for doc in tokenized_docs]\n",
        "query_tfidf_vectors = [compute_tfidf(query, tokenized_docs, vocab) for query in tokenized_queries]"
      ],
      "metadata": {
        "id": "yldyokWDbsp2"
      },
      "execution_count": 91,
      "outputs": []
    },
    {
      "cell_type": "code",
      "source": [
        "# Open the file to write the results\n",
        "with open(\"Pawan.txt\", \"w\") as result_file:\n",
        "    # Calculate cosine similarities and rank top 3 documents for each query\n",
        "    for i, query_vector in enumerate(query_tfidf_vectors):\n",
        "        similarities = [cosine_similarity(query_vector, doc_vector) for doc_vector in doc_tfidf_vectors]\n",
        "\n",
        "        # Rank documents by similarity score\n",
        "        ranked_docs = sorted(enumerate(similarities), key=lambda x: x[1], reverse=True)[:3]  # Top 3\n",
        "\n",
        "        # Prepare the result string\n",
        "        result_str = f\"\\nTop 3 results for query '{queries[i]}':\\n\"\n",
        "        for rank, (doc_index, score) in enumerate(ranked_docs, 1):\n",
        "            result_str += f\"Rank {rank}: Document {doc_index + 1} with score {score:.4f}\\n\"\n",
        "\n",
        "        # Print to console and write to file\n",
        "        print(result_str)\n",
        "        result_file.write(result_str)"
      ],
      "metadata": {
        "colab": {
          "base_uri": "https://localhost:8080/"
        },
        "id": "Ih89XDZdbswT",
        "outputId": "3a88186b-e2d3-48d2-cbff-72f43cdde8af"
      },
      "execution_count": 92,
      "outputs": [
        {
          "output_type": "stream",
          "name": "stdout",
          "text": [
            "\n",
            "Top 3 results for query 'battery life out':\n",
            "Rank 1: Document 1 with score 0.2330\n",
            "Rank 2: Document 5 with score 0.2024\n",
            "Rank 3: Document 7 with score 0.0491\n",
            "\n",
            "\n",
            "Top 3 results for query 'qualifying amount':\n",
            "Rank 1: Document 5 with score 0.2343\n",
            "Rank 2: Document 1 with score 0.0000\n",
            "Rank 3: Document 2 with score 0.0000\n",
            "\n",
            "\n",
            "Top 3 results for query 'international purchases':\n",
            "Rank 1: Document 9 with score 0.2575\n",
            "Rank 2: Document 1 with score 0.0000\n",
            "Rank 3: Document 2 with score 0.0000\n",
            "\n"
          ]
        }
      ]
    },
    {
      "cell_type": "code",
      "source": [],
      "metadata": {
        "id": "gLQ8vbGVXXD2"
      },
      "execution_count": null,
      "outputs": []
    },
    {
      "cell_type": "code",
      "source": [],
      "metadata": {
        "id": "Lc7ACNuuXIBE"
      },
      "execution_count": null,
      "outputs": []
    },
    {
      "cell_type": "markdown",
      "source": [],
      "metadata": {
        "id": "4AQbMCu2cKKV"
      }
    }
  ]
}